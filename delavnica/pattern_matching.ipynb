{
 "cells": [
  {
   "cell_type": "code",
   "execution_count": 11,
   "id": "f7fd7412",
   "metadata": {},
   "outputs": [],
   "source": [
    "def simple_example(cmd):\n",
    "    match cmd:\n",
    "        case \"ls\" | \"dir\" :\n",
    "            print(\"Listing dir\")\n",
    "        case \"cd\":\n",
    "            print(\"Changing dir\")\n",
    "        case x:\n",
    "            print(f\"Neprepoznan ukaz: {x}\")"
   ]
  },
  {
   "cell_type": "code",
   "execution_count": 12,
   "id": "8805123b",
   "metadata": {},
   "outputs": [
    {
     "name": "stdout",
     "output_type": "stream",
     "text": [
      "Listing dir\n",
      "Changing dir\n",
      "Neprepoznan ukaz: abeceda\n",
      "Neprepoznan ukaz: rm -rf /\n",
      "Listing dir\n"
     ]
    }
   ],
   "source": [
    "simple_example(\"ls\")\n",
    "simple_example(\"cd\")\n",
    "simple_example(\"abeceda\")\n",
    "simple_example(\"rm -rf /\")\n",
    "simple_example(\"dir\")"
   ]
  },
  {
   "cell_type": "code",
   "execution_count": 16,
   "id": "0f4d5924",
   "metadata": {},
   "outputs": [],
   "source": [
    "from dataclasses import dataclass\n",
    "from typing import Callable, Union, Dict\n",
    "\n",
    "@dataclass\n",
    "class Number:\n",
    "    val: int\n",
    "\n",
    "\n",
    "@dataclass\n",
    "class Variable:\n",
    "    name: str\n",
    "\n",
    "\n",
    "EvalFun = Callable[[int, int], int]\n",
    "\n",
    "\n",
    "@dataclass\n",
    "class Operator:\n",
    "    name: str\n",
    "    eval_fun: EvalFun\n",
    "\n",
    "    def __call__(self, x1: int, x2: int) -> int:\n",
    "        return self.eval_fun(x1, x2)\n",
    "\n",
    "\n",
    "@dataclass\n",
    "class OperatorNode:\n",
    "    operator: Operator\n",
    "    left: \"Expression\"\n",
    "    right: \"Expression\"\n",
    "    \n",
    "def evaluate(expression, env):\n",
    "    match expression:\n",
    "        case Number(x) | x if isinstance(x, int):\n",
    "            return x\n",
    "        case Variable(name=name):\n",
    "            return env[name]\n",
    "        case OperatorNode(op, left=Number(0), right):\n",
    "            l = evaluate(left, env)\n",
    "            r = evaluate(right, env)\n",
    "            return op.eval_fun(l, r)\n",
    "    \n",
    "    \n",
    "operators = [\n",
    "    Operator(n, o) for (n, o) in\n",
    "    [\n",
    "        (\"+\", lambda x, y: x + y),\n",
    "        (\"-\", lambda x, y: x - y),\n",
    "        (\"*\", lambda x, y: x * y),\n",
    "        (\"/\", lambda x, y: x / y),\n",
    "    ]\n",
    "]"
   ]
  },
  {
   "cell_type": "code",
   "execution_count": null,
   "id": "fa27f6ae",
   "metadata": {},
   "outputs": [],
   "source": []
  }
 ],
 "metadata": {
  "kernelspec": {
   "display_name": "Python 3",
   "language": "python",
   "name": "python3"
  },
  "language_info": {
   "codemirror_mode": {
    "name": "ipython",
    "version": 3
   },
   "file_extension": ".py",
   "mimetype": "text/x-python",
   "name": "python",
   "nbconvert_exporter": "python",
   "pygments_lexer": "ipython3",
   "version": "3.10.0b1"
  }
 },
 "nbformat": 4,
 "nbformat_minor": 5
}
