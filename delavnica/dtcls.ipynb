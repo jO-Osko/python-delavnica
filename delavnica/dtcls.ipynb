{
 "cells": [
  {
   "cell_type": "code",
   "execution_count": 1,
   "id": "b4eef6bb",
   "metadata": {},
   "outputs": [],
   "source": [
    "from dataclasses import dataclass, field"
   ]
  },
  {
   "cell_type": "code",
   "execution_count": 18,
   "id": "9f8d0a21",
   "metadata": {},
   "outputs": [
    {
     "name": "stdout",
     "output_type": "stream",
     "text": [
      "ponedeljek\n",
      "Dan(ime='ponedeljek', stevilo_predavanj=10, stevilo_ljudi=100, komentar='', id_ljudi=[1, 2, 3, 4, 5, 5])\n",
      "[Dan(ime='ponedeljek', stevilo_predavanj=10, stevilo_ljudi=200, komentar='', id_ljudi=[1, 2, 3, 4, 5, 5])]\n"
     ]
    }
   ],
   "source": [
    "@dataclass(order=True)\n",
    "class Dan:\n",
    "    ime: str = field(compare=False)\n",
    "    stevilo_predavanj: int = field(compare=False)\n",
    "    stevilo_ljudi: int = field(compare=True, default=100)\n",
    "    komentar: str = field(compare=False, default=\"\", init=False)\n",
    "    id_ljudi: int = field(compare=False, init=False, default_factory=lambda : [1, 2, 3, 4, 5, 5]) \n",
    "    \n",
    "    def __post_init__(self):\n",
    "        if self.ime == \"\":\n",
    "            self.komentar = \"Kako je lahko dan brez imena\"\n",
    "        \n",
    "    \n",
    "    def podvoji_ljudi(self):\n",
    "        self.stevilo_ljudi *= 2\n",
    "    \n",
    "\n",
    "pon = Dan(\"ponedeljek\", stevilo_predavanj=10)\n",
    "print(pon.ime)\n",
    "print(pon)\n",
    "pon.podvoji_ljudi()\n",
    "print([pon])"
   ]
  },
  {
   "cell_type": "code",
   "execution_count": 12,
   "id": "1ce3ba5e",
   "metadata": {},
   "outputs": [
    {
     "data": {
      "text/plain": [
       "True"
      ]
     },
     "execution_count": 12,
     "metadata": {},
     "output_type": "execute_result"
    }
   ],
   "source": [
    "Dan(\"\", 0, 100) < Dan(\"\", 100, 200)"
   ]
  },
  {
   "cell_type": "code",
   "execution_count": 14,
   "id": "91ffcae9",
   "metadata": {},
   "outputs": [
    {
     "data": {
      "text/plain": [
       "Dan(ime='', stevilo_predavanj=0, stevilo_ljudi=0, komentar='Kako je lahko dan brez imena')"
      ]
     },
     "execution_count": 14,
     "metadata": {},
     "output_type": "execute_result"
    }
   ],
   "source": [
    "Dan(\"\", 0, 0)"
   ]
  },
  {
   "cell_type": "code",
   "execution_count": 15,
   "id": "fc115e52",
   "metadata": {},
   "outputs": [],
   "source": [
    "def f(x=[]):\n",
    "    return x"
   ]
  },
  {
   "cell_type": "code",
   "execution_count": 17,
   "id": "cddc7726",
   "metadata": {},
   "outputs": [
    {
     "ename": "IndentationError",
     "evalue": "expected an indented block after 'if' statement on line 2 (<ipython-input-17-848040c9bdba>, line 2)",
     "output_type": "error",
     "traceback": [
      "\u001b[0;36m  File \u001b[0;32m\"<ipython-input-17-848040c9bdba>\"\u001b[0;36m, line \u001b[0;32m2\u001b[0m\n\u001b[0;31m    if b is None:\u001b[0m\n\u001b[0m                 ^\u001b[0m\n\u001b[0;31mIndentationError\u001b[0m\u001b[0;31m:\u001b[0m expected an indented block after 'if' statement on line 2\n"
     ]
    }
   ],
   "source": [
    "def f(a=12, b=None):\n",
    "    if b is None:\n",
    "        b = default_factory()"
   ]
  },
  {
   "cell_type": "code",
   "execution_count": null,
   "id": "942226f0",
   "metadata": {},
   "outputs": [],
   "source": []
  }
 ],
 "metadata": {
  "kernelspec": {
   "display_name": "Python 3",
   "language": "python",
   "name": "python3"
  },
  "language_info": {
   "codemirror_mode": {
    "name": "ipython",
    "version": 3
   },
   "file_extension": ".py",
   "mimetype": "text/x-python",
   "name": "python",
   "nbconvert_exporter": "python",
   "pygments_lexer": "ipython3",
   "version": "3.10.0b1"
  }
 },
 "nbformat": 4,
 "nbformat_minor": 5
}
