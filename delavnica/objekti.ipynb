{
 "cells": [
  {
   "cell_type": "code",
   "execution_count": 4,
   "id": "b7718bc3",
   "metadata": {
    "scrolled": true
   },
   "outputs": [
    {
     "data": {
      "text/plain": [
       "sys.version_info(major=3, minor=10, micro=0, releaselevel='beta', serial=1)"
      ]
     },
     "execution_count": 4,
     "metadata": {},
     "output_type": "execute_result"
    }
   ],
   "source": [
    "import sys\n",
    "sys.version_info"
   ]
  },
  {
   "cell_type": "code",
   "execution_count": 22,
   "id": "3e9fcbdd",
   "metadata": {},
   "outputs": [],
   "source": [
    "import functools\n",
    "\n",
    "# Objekti Predavanje, Dan, Teden\n",
    "@functools.total_ordering\n",
    "class Predavanje:\n",
    "    def __init__(self, naslov, predavatelj, zacetek, konec):\n",
    "        self.naslov = naslov\n",
    "        self.predavatelj = predavatelj\n",
    "        self.zacetek = zacetek\n",
    "        self.konec = konec\n",
    "    \n",
    "    def __str__(self):\n",
    "        return f\"Predavanje {self.naslov}, izvaja ga: {self.predavatelj}\"\n",
    "    \n",
    "    def __repr__(self):\n",
    "        return f\"Predavanje({self}, {f'{self.zacetek}':*^15})\"\n",
    "    # lt, le, gt, ge <, <=, >, >= ...... a < b ~> a.__lt__(b) ~> not b.__lt__(a)\n",
    "    def __lt__(self, other):\n",
    "        return (self.zacetek, self.konec) < (other.zacetek, other.konec)\n",
    "        \n",
    "fm = Predavanje(\"The dawn of formalized math....\", \"A. Bauer\", \"14\", \"15\")"
   ]
  },
  {
   "cell_type": "code",
   "execution_count": 23,
   "id": "567729a9",
   "metadata": {},
   "outputs": [
    {
     "name": "stdout",
     "output_type": "stream",
     "text": [
      "Predavanje The dawn of formalized math...., izvaja ga: A. Bauer\n",
      "[Predavanje(Predavanje The dawn of formalized math...., izvaja ga: A. Bauer, ******14*******)]\n",
      "True\n",
      "False\n",
      "False\n",
      "True\n"
     ]
    }
   ],
   "source": [
    "print(fm)\n",
    "print([fm])\n",
    "print(fm == fm)\n",
    "print(fm < fm)\n",
    "print(fm > fm)\n",
    "print(fm <= fm)"
   ]
  },
  {
   "cell_type": "code",
   "execution_count": 28,
   "id": "56d6a0a9",
   "metadata": {},
   "outputs": [
    {
     "name": "stdout",
     "output_type": "stream",
     "text": [
      "['__class__', '__delattr__', '__dict__', '__dir__', '__doc__', '__eq__', '__format__', '__ge__', '__getattribute__', '__gt__', '__hash__', '__init__', '__init_subclass__', '__le__', '__lt__', '__module__', '__ne__', '__new__', '__reduce__', '__reduce_ex__', '__repr__', '__setattr__', '__sizeof__', '__str__', '__subclasshook__', '__weakref__', 'konec', 'naslov', 'predavatelj', 'zacetek']\n",
      "{'naslov': 'The dawn of formalized math....', 'predavatelj': 'A. Bauer', 'zacetek': '14', 'konec': '15'}\n",
      "15\n"
     ]
    }
   ],
   "source": [
    "print(dir(fm))\n",
    "print(vars(fm))\n",
    "print(vars(fm)[\"konec\"])"
   ]
  },
  {
   "cell_type": "code",
   "execution_count": 33,
   "id": "e5c5868d",
   "metadata": {},
   "outputs": [
    {
     "name": "stdout",
     "output_type": "stream",
     "text": [
      "{'naslov': 'The dawn of formalized math....', 'predavatelj': 'A. Bauer', 'zacetek': '14', 'konec': '15', 'komentar': 'zanimivo'}\n",
      "{'naslov': 'The dawn of formalized math....', 'predavatelj': 'A. Bauer', 'zacetek': '14', 'konec': '15', 'komentar': 'zanimivo'}\n",
      "zanimivo\n"
     ]
    }
   ],
   "source": [
    "print(fm.__dict__)\n",
    "fm.__dict__[\"komentar\"] = \"zanimivo\"\n",
    "print(vars(fm))\n",
    "print(fm.komentar)"
   ]
  },
  {
   "cell_type": "code",
   "execution_count": 34,
   "id": "0b83a5da",
   "metadata": {},
   "outputs": [],
   "source": [
    "fm.stevilo_ljudi = 100"
   ]
  },
  {
   "cell_type": "code",
   "execution_count": 41,
   "id": "f6f1b50a",
   "metadata": {},
   "outputs": [
    {
     "name": "stdout",
     "output_type": "stream",
     "text": [
      "['__class__', '__delattr__', '__dict__', '__dir__', '__doc__', '__eq__', '__format__', '__ge__', '__getattribute__', '__gt__', '__hash__', '__init__', '__init_subclass__', '__le__', '__lt__', '__module__', '__ne__', '__new__', '__reduce__', '__reduce_ex__', '__repr__', '__setattr__', '__sizeof__', '__str__', '__subclasshook__', '__weakref__', 'komentar', 'konec', 'naslov', 'predavatelj', 'stevilo_ljudi', 'zacetek']\n"
     ]
    }
   ],
   "source": [
    "vars(fm)\n",
    "fm.naslov = \"Intro to lean\"\n",
    "#del fm.__dict__[\"naslov\"]\n",
    "fm\n",
    "print(dir(fm))"
   ]
  },
  {
   "cell_type": "code",
   "execution_count": 45,
   "id": "895ea1bc",
   "metadata": {},
   "outputs": [
    {
     "name": "stdout",
     "output_type": "stream",
     "text": [
      "['__class__', '__delattr__', '__dict__', '__dir__', '__doc__', '__eq__', '__format__', '__ge__', '__getattribute__', '__gt__', '__hash__', '__init__', '__init_subclass__', '__le__', '__lt__', '__module__', '__ne__', '__new__', '__reduce__', '__reduce_ex__', '__repr__', '__setattr__', '__sizeof__', '__str__', '__subclasshook__', '__weakref__']\n",
      "<class '__main__.Predavanje'>\n",
      "<class 'type'>\n"
     ]
    }
   ],
   "source": [
    "print(dir(Predavanje))\n",
    "print(type(fm))\n",
    "print(type(Predavanje))"
   ]
  },
  {
   "cell_type": "code",
   "execution_count": 46,
   "id": "5ba38834",
   "metadata": {},
   "outputs": [
    {
     "data": {
      "text/plain": [
       "mappingproxy({'__module__': '__main__',\n",
       "              '__init__': <function __main__.Predavanje.__init__(self, naslov, predavatelj, zacetek, konec)>,\n",
       "              '__str__': <function __main__.Predavanje.__str__(self)>,\n",
       "              '__repr__': <function __main__.Predavanje.__repr__(self)>,\n",
       "              '__lt__': <function __main__.Predavanje.__lt__(self, other)>,\n",
       "              '__dict__': <attribute '__dict__' of 'Predavanje' objects>,\n",
       "              '__weakref__': <attribute '__weakref__' of 'Predavanje' objects>,\n",
       "              '__doc__': None,\n",
       "              '__gt__': <function functools._gt_from_lt(self, other, NotImplemented=NotImplemented)>,\n",
       "              '__le__': <function functools._le_from_lt(self, other, NotImplemented=NotImplemented)>,\n",
       "              '__ge__': <function functools._ge_from_lt(self, other, NotImplemented=NotImplemented)>})"
      ]
     },
     "execution_count": 46,
     "metadata": {},
     "output_type": "execute_result"
    }
   ],
   "source": [
    "Predavanje.__dict__"
   ]
  },
  {
   "cell_type": "code",
   "execution_count": 53,
   "id": "9d69612b",
   "metadata": {},
   "outputs": [],
   "source": [
    "def drugacno_izpisovanje(self):\n",
    "    print(self.naslov)\n",
    "\n",
    "Predavanje.izpis = drugacno_izpisovanje\n",
    "    \n",
    "Predavanje.printanje = lambda self: print(\"Izpisujem x\", self)\n"
   ]
  },
  {
   "cell_type": "code",
   "execution_count": 54,
   "id": "cd800102",
   "metadata": {},
   "outputs": [
    {
     "data": {
      "text/plain": [
       "mappingproxy({'__module__': '__main__',\n",
       "              '__init__': <function __main__.Predavanje.__init__(self, naslov, predavatelj, zacetek, konec)>,\n",
       "              '__str__': <function __main__.Predavanje.__str__(self)>,\n",
       "              '__repr__': <function __main__.Predavanje.__repr__(self)>,\n",
       "              '__lt__': <function __main__.Predavanje.__lt__(self, other)>,\n",
       "              '__dict__': <attribute '__dict__' of 'Predavanje' objects>,\n",
       "              '__weakref__': <attribute '__weakref__' of 'Predavanje' objects>,\n",
       "              '__doc__': None,\n",
       "              '__gt__': <function functools._gt_from_lt(self, other, NotImplemented=NotImplemented)>,\n",
       "              '__le__': <function functools._le_from_lt(self, other, NotImplemented=NotImplemented)>,\n",
       "              '__ge__': <function functools._ge_from_lt(self, other, NotImplemented=NotImplemented)>,\n",
       "              'fn': <function __main__.<lambda>(x)>,\n",
       "              'printanje': <function __main__.<lambda>(self)>,\n",
       "              'izpis': <function __main__.drugacno_izpisovanje(self)>})"
      ]
     },
     "execution_count": 54,
     "metadata": {},
     "output_type": "execute_result"
    }
   ],
   "source": [
    "Predavanje.__dict__"
   ]
  },
  {
   "cell_type": "code",
   "execution_count": 55,
   "id": "8ce2137a",
   "metadata": {},
   "outputs": [
    {
     "name": "stdout",
     "output_type": "stream",
     "text": [
      "Intro to lean\n"
     ]
    }
   ],
   "source": [
    "fm.izpis()# fm.ime_metode ~~~> type(fm).ime_metode(fm)"
   ]
  },
  {
   "cell_type": "code",
   "execution_count": 57,
   "id": "1ff5fdbc",
   "metadata": {},
   "outputs": [
    {
     "data": {
      "text/plain": [
       "'Predavanje Intro to lean, izvaja ga: A. Bauer'"
      ]
     },
     "execution_count": 57,
     "metadata": {},
     "output_type": "execute_result"
    }
   ],
   "source": [
    "fm.__str__()"
   ]
  },
  {
   "cell_type": "code",
   "execution_count": 58,
   "id": "ecc5aed2",
   "metadata": {},
   "outputs": [
    {
     "data": {
      "text/plain": [
       "'Predavanje Intro to lean, izvaja ga: A. Bauer'"
      ]
     },
     "execution_count": 58,
     "metadata": {},
     "output_type": "execute_result"
    }
   ],
   "source": [
    "Predavanje.__str__(fm)"
   ]
  },
  {
   "cell_type": "code",
   "execution_count": 59,
   "id": "41102dcb",
   "metadata": {},
   "outputs": [],
   "source": [
    "class Predavanje:\n",
    "    def __init__(self, naslov, predavatelj, zacetek, konec):\n",
    "        self.naslov = naslov\n",
    "        self.predavatelj = predavatelj\n",
    "        self.zacetek = zacetek\n",
    "        self.konec = konec\n",
    "    \n",
    "    def __str__(self):\n",
    "        return f\"Predavanje {self.naslov}, izvaja ga: {self.predavatelj}\"\n",
    "    \n",
    "    __repr__ = __str__\n",
    "    \n",
    "    # lt, le, gt, ge <, <=, >, >= ...... a < b ~> a.__lt__(b) ~> not b.__lt__(a)\n",
    "    def __lt__(self, other):\n",
    "        return (self.zacetek, self.konec) < (other.zacetek, other.konec)"
   ]
  },
  {
   "cell_type": "code",
   "execution_count": null,
   "id": "8312e72c",
   "metadata": {},
   "outputs": [],
   "source": []
  }
 ],
 "metadata": {
  "kernelspec": {
   "display_name": "Python 3",
   "language": "python",
   "name": "python3"
  },
  "language_info": {
   "codemirror_mode": {
    "name": "ipython",
    "version": 3
   },
   "file_extension": ".py",
   "mimetype": "text/x-python",
   "name": "python",
   "nbconvert_exporter": "python",
   "pygments_lexer": "ipython3",
   "version": "3.10.0b1"
  }
 },
 "nbformat": 4,
 "nbformat_minor": 5
}
