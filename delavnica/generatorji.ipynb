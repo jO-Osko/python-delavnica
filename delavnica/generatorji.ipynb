{
 "cells": [
  {
   "cell_type": "code",
   "execution_count": 1,
   "id": "5b61387e",
   "metadata": {},
   "outputs": [],
   "source": [
    "def fib():\n",
    "    a = 0\n",
    "    b = 1\n",
    "    while 1:\n",
    "        yield a\n",
    "        a, b = b, a + b"
   ]
  },
  {
   "cell_type": "code",
   "execution_count": 2,
   "id": "aff14f7a",
   "metadata": {},
   "outputs": [],
   "source": [
    "f = fib()"
   ]
  },
  {
   "cell_type": "code",
   "execution_count": 18,
   "id": "c28db0ab",
   "metadata": {},
   "outputs": [],
   "source": [
    "def vzemi_n(n, gen): # Vzemi največ prvih n\n",
    "    try:\n",
    "        gen = iter(gen)\n",
    "    except TypeError:\n",
    "        gen = gen()\n",
    "    for _ in range(n):\n",
    "        try:\n",
    "            yield next(gen)\n",
    "        except StopIteration:\n",
    "            return "
   ]
  },
  {
   "cell_type": "code",
   "execution_count": 19,
   "id": "02805279",
   "metadata": {},
   "outputs": [],
   "source": [
    "fib_10 = vzemi_n(10, fib)"
   ]
  },
  {
   "cell_type": "code",
   "execution_count": 20,
   "id": "d5aeffed",
   "metadata": {},
   "outputs": [
    {
     "data": {
      "text/plain": [
       "[0, 1, 1, 2, 3, 5, 8, 13, 21, 34]"
      ]
     },
     "execution_count": 20,
     "metadata": {},
     "output_type": "execute_result"
    }
   ],
   "source": [
    "list(fib_10)"
   ]
  },
  {
   "cell_type": "code",
   "execution_count": 21,
   "id": "d8d6763c",
   "metadata": {},
   "outputs": [
    {
     "data": {
      "text/plain": [
       "[0, 1, 1, 2, 3, 5, 8, 13, 21, 34]"
      ]
     },
     "execution_count": 21,
     "metadata": {},
     "output_type": "execute_result"
    }
   ],
   "source": [
    "list(vzemi_n(100, vzemi_n(10, fib)))"
   ]
  },
  {
   "cell_type": "code",
   "execution_count": null,
   "id": "0bc6a97c",
   "metadata": {},
   "outputs": [],
   "source": []
  },
  {
   "cell_type": "code",
   "execution_count": 43,
   "id": "d6276437",
   "metadata": {},
   "outputs": [],
   "source": [
    "def fib():\n",
    "    a = 0\n",
    "    b = 1\n",
    "    while 1:\n",
    "        result = yield a\n",
    "        if result and result < 0:\n",
    "            b = 1\n",
    "            a = 0\n",
    "        a, b = b, a + b\n"
   ]
  },
  {
   "cell_type": "code",
   "execution_count": 44,
   "id": "50acced8",
   "metadata": {},
   "outputs": [
    {
     "data": {
      "text/plain": [
       "<generator object fib at 0x10c81c5f0>"
      ]
     },
     "execution_count": 44,
     "metadata": {},
     "output_type": "execute_result"
    }
   ],
   "source": [
    "f = fib()\n",
    "f"
   ]
  },
  {
   "cell_type": "code",
   "execution_count": 49,
   "id": "40ab397d",
   "metadata": {},
   "outputs": [
    {
     "name": "stdout",
     "output_type": "stream",
     "text": [
      "[1, 2, 3, 5, 8, 13, 21, 34, 55, 89, 144, 233, 377, 610, 987, 1597, 2584, 4181, 6765, 10946]\n"
     ]
    }
   ],
   "source": [
    "print(list(vzemi_n(20,f)))"
   ]
  },
  {
   "cell_type": "code",
   "execution_count": 48,
   "id": "abb62788",
   "metadata": {},
   "outputs": [
    {
     "data": {
      "text/plain": [
       "1"
      ]
     },
     "execution_count": 48,
     "metadata": {},
     "output_type": "execute_result"
    }
   ],
   "source": [
    "f.send(-3)"
   ]
  },
  {
   "cell_type": "code",
   "execution_count": 29,
   "id": "d6cf4458",
   "metadata": {},
   "outputs": [
    {
     "name": "stdout",
     "output_type": "stream",
     "text": [
      "15\n"
     ]
    },
    {
     "data": {
      "text/plain": [
       "2"
      ]
     },
     "execution_count": 29,
     "metadata": {},
     "output_type": "execute_result"
    }
   ],
   "source": [
    "f.send(15)"
   ]
  },
  {
   "cell_type": "code",
   "execution_count": 30,
   "id": "ae8fae71",
   "metadata": {},
   "outputs": [
    {
     "name": "stdout",
     "output_type": "stream",
     "text": [
      "30\n"
     ]
    },
    {
     "data": {
      "text/plain": [
       "3"
      ]
     },
     "execution_count": 30,
     "metadata": {},
     "output_type": "execute_result"
    }
   ],
   "source": [
    "f.send(30)"
   ]
  },
  {
   "cell_type": "code",
   "execution_count": null,
   "id": "f1e96ff7",
   "metadata": {},
   "outputs": [],
   "source": []
  }
 ],
 "metadata": {
  "kernelspec": {
   "display_name": "Python 3",
   "language": "python",
   "name": "python3"
  },
  "language_info": {
   "codemirror_mode": {
    "name": "ipython",
    "version": 3
   },
   "file_extension": ".py",
   "mimetype": "text/x-python",
   "name": "python",
   "nbconvert_exporter": "python",
   "pygments_lexer": "ipython3",
   "version": "3.10.0b1"
  }
 },
 "nbformat": 4,
 "nbformat_minor": 5
}
