{
 "cells": [
  {
   "cell_type": "code",
   "execution_count": 1,
   "id": "ab5b4d23",
   "metadata": {},
   "outputs": [],
   "source": [
    "class ExampleClass:\n",
    "    \n",
    "    __slots__ = [\"a\", \"b\"]\n",
    "    \n",
    "    def __init__(self, a, b):\n",
    "        self.a = a\n",
    "        self.b = b"
   ]
  },
  {
   "cell_type": "code",
   "execution_count": 2,
   "id": "b9126fbe",
   "metadata": {},
   "outputs": [],
   "source": [
    "c = ExampleClass(1, 2)"
   ]
  },
  {
   "cell_type": "code",
   "execution_count": 4,
   "id": "02228b19",
   "metadata": {},
   "outputs": [
    {
     "name": "stdout",
     "output_type": "stream",
     "text": [
      "['__class__', '__delattr__', '__dir__', '__doc__', '__eq__', '__format__', '__ge__', '__getattribute__', '__gt__', '__hash__', '__init__', '__init_subclass__', '__le__', '__lt__', '__module__', '__ne__', '__new__', '__reduce__', '__reduce_ex__', '__repr__', '__setattr__', '__sizeof__', '__slots__', '__str__', '__subclasshook__', 'a', 'b']\n"
     ]
    }
   ],
   "source": [
    "print(dir(c))"
   ]
  },
  {
   "cell_type": "code",
   "execution_count": 5,
   "id": "ab703c0e",
   "metadata": {},
   "outputs": [
    {
     "ename": "AttributeError",
     "evalue": "'ExampleClass' object has no attribute 'x'",
     "output_type": "error",
     "traceback": [
      "\u001b[0;31m---------------------------------------------------------------------------\u001b[0m",
      "\u001b[0;31mAttributeError\u001b[0m                            Traceback (most recent call last)",
      "\u001b[0;32m<ipython-input-5-0829bf2ac838>\u001b[0m in \u001b[0;36m<module>\u001b[0;34m\u001b[0m\n\u001b[0;32m----> 1\u001b[0;31m \u001b[0mc\u001b[0m\u001b[0;34m.\u001b[0m\u001b[0mx\u001b[0m \u001b[0;34m=\u001b[0m \u001b[0;36m12\u001b[0m\u001b[0;34m\u001b[0m\u001b[0;34m\u001b[0m\u001b[0m\n\u001b[0m",
      "\u001b[0;31mAttributeError\u001b[0m: 'ExampleClass' object has no attribute 'x'"
     ]
    }
   ],
   "source": [
    "c.x = 12"
   ]
  },
  {
   "cell_type": "code",
   "execution_count": 30,
   "id": "a11d9457",
   "metadata": {},
   "outputs": [],
   "source": [
    "# Poseben read only dict\n",
    "\n",
    "class ReadOnlySlovar(dict):\n",
    "    __slots__ = [] # Tega formalno ne potrebujemo več\n",
    "    __getattr__ = dict.__getitem__\n",
    "    \n",
    "    def __setitem__(self, key, value):\n",
    "        if key in self: # \n",
    "            super().__setitem__(key, value)\n",
    "        else:\n",
    "            raise ValueError(\"Tole pa ne bo šlo\")\n",
    "    \n",
    "    __setattr__ = __setitem__\n",
    "    \n",
    "\n",
    "slovar = ReadOnlySlovar({\"a\": 1, \"b\": 3})\n",
    "# objekt = ReadOnlySlovar.__new__(ReadOnlySlovar, {\"a\": 1, \"b\": 3})\n",
    "# ReadOnlySlovar.__init__(objekt, {\"a\": 1, \"b\": 3}) # Samo če je objekt tipa ReadOnlySlovar\n",
    "# return objekt\n",
    "\n",
    "# slovar[\"a\"] = 3 ~> ReadOnlySlovar.setitem(slovar, \"a\", 3)\n",
    "# slovar.a = 3 ~> ReadOnlySlovar.setattr(slovar, \"a\", 3)\n"
   ]
  },
  {
   "cell_type": "code",
   "execution_count": 33,
   "id": "ceeed15a",
   "metadata": {},
   "outputs": [
    {
     "ename": "ValueError",
     "evalue": "Tole pa ne bo šlo",
     "output_type": "error",
     "traceback": [
      "\u001b[0;31m---------------------------------------------------------------------------\u001b[0m",
      "\u001b[0;31mValueError\u001b[0m                                Traceback (most recent call last)",
      "\u001b[0;32m<ipython-input-33-ffd862f80b63>\u001b[0m in \u001b[0;36m<module>\u001b[0;34m\u001b[0m\n\u001b[1;32m      1\u001b[0m \u001b[0mslovar\u001b[0m\u001b[0;34m[\u001b[0m\u001b[0;34m\"a\"\u001b[0m\u001b[0;34m]\u001b[0m \u001b[0;34m=\u001b[0m \u001b[0;36m12\u001b[0m\u001b[0;34m\u001b[0m\u001b[0;34m\u001b[0m\u001b[0m\n\u001b[1;32m      2\u001b[0m \u001b[0;31m#slovar.x = 200\u001b[0m\u001b[0;34m\u001b[0m\u001b[0;34m\u001b[0m\u001b[0;34m\u001b[0m\u001b[0m\n\u001b[0;32m----> 3\u001b[0;31m \u001b[0mslovar\u001b[0m\u001b[0;34m.\u001b[0m\u001b[0mx\u001b[0m \u001b[0;34m=\u001b[0m \u001b[0;36m400\u001b[0m\u001b[0;34m\u001b[0m\u001b[0;34m\u001b[0m\u001b[0m\n\u001b[0m",
      "\u001b[0;32m<ipython-input-30-99a1f8dd808d>\u001b[0m in \u001b[0;36m__setitem__\u001b[0;34m(self, key, value)\u001b[0m\n\u001b[1;32m     12\u001b[0m             \u001b[0msuper\u001b[0m\u001b[0;34m(\u001b[0m\u001b[0;34m)\u001b[0m\u001b[0;34m.\u001b[0m\u001b[0m__setitem__\u001b[0m\u001b[0;34m(\u001b[0m\u001b[0mkey\u001b[0m\u001b[0;34m,\u001b[0m \u001b[0mvalue\u001b[0m\u001b[0;34m)\u001b[0m\u001b[0;34m\u001b[0m\u001b[0;34m\u001b[0m\u001b[0m\n\u001b[1;32m     13\u001b[0m         \u001b[0;32melse\u001b[0m\u001b[0;34m:\u001b[0m\u001b[0;34m\u001b[0m\u001b[0;34m\u001b[0m\u001b[0m\n\u001b[0;32m---> 14\u001b[0;31m             \u001b[0;32mraise\u001b[0m \u001b[0mValueError\u001b[0m\u001b[0;34m(\u001b[0m\u001b[0;34m\"Tole pa ne bo šlo\"\u001b[0m\u001b[0;34m)\u001b[0m\u001b[0;34m\u001b[0m\u001b[0;34m\u001b[0m\u001b[0m\n\u001b[0m\u001b[1;32m     15\u001b[0m \u001b[0;34m\u001b[0m\u001b[0m\n\u001b[1;32m     16\u001b[0m     \u001b[0m__setattr__\u001b[0m \u001b[0;34m=\u001b[0m \u001b[0m__setitem__\u001b[0m\u001b[0;34m\u001b[0m\u001b[0;34m\u001b[0m\u001b[0m\n",
      "\u001b[0;31mValueError\u001b[0m: Tole pa ne bo šlo"
     ]
    }
   ],
   "source": [
    "slovar[\"a\"] = 12\n",
    "#slovar.x = 200\n",
    "slovar.x = 400"
   ]
  },
  {
   "cell_type": "code",
   "execution_count": 32,
   "id": "3a659a5a",
   "metadata": {},
   "outputs": [
    {
     "data": {
      "text/plain": [
       "{'a': 400, 'b': 3}"
      ]
     },
     "execution_count": 32,
     "metadata": {},
     "output_type": "execute_result"
    }
   ],
   "source": [
    "slovar"
   ]
  },
  {
   "cell_type": "code",
   "execution_count": 41,
   "id": "cafd2274",
   "metadata": {},
   "outputs": [],
   "source": []
  },
  {
   "cell_type": "code",
   "execution_count": 47,
   "id": "fb9c0556",
   "metadata": {},
   "outputs": [],
   "source": [
    "class Neumnost:\n",
    "    def __new__(cls, stevilka):\n",
    "        if stevilka < 0:\n",
    "            return 0\n",
    "        return super().__new__(cls)\n",
    "    \n",
    "    def __init__(self, stevilka):\n",
    "        self.stevilka = stevilka"
   ]
  },
  {
   "cell_type": "code",
   "execution_count": 48,
   "id": "efb929c0",
   "metadata": {},
   "outputs": [
    {
     "name": "stdout",
     "output_type": "stream",
     "text": [
      "<__main__.Neumnost object at 0x10b9768f0>\n",
      "10\n"
     ]
    }
   ],
   "source": [
    "a = Neumnost(10)\n",
    "print(a)\n",
    "print(a.stevilka)"
   ]
  },
  {
   "cell_type": "code",
   "execution_count": 49,
   "id": "8ce3345b",
   "metadata": {},
   "outputs": [
    {
     "name": "stdout",
     "output_type": "stream",
     "text": [
      "0\n"
     ]
    }
   ],
   "source": [
    "b = Neumnost(-3)\n",
    "print(b)"
   ]
  },
  {
   "cell_type": "code",
   "execution_count": 52,
   "id": "5e088fa6",
   "metadata": {},
   "outputs": [],
   "source": [
    "class SpecialniSlovar(dict):\n",
    "    def __new__(cls, *args, **kwargs):\n",
    "        if kwargs.get(\"read_only\"):\n",
    "            kwargs.pop(\"read_only\")\n",
    "            return ReadOnlySlovar(*args, **kwargs)\n",
    "        else:\n",
    "            return dict(*args, **kwargs)\n",
    "        "
   ]
  },
  {
   "cell_type": "code",
   "execution_count": 56,
   "id": "a2a3dac3",
   "metadata": {},
   "outputs": [
    {
     "name": "stdout",
     "output_type": "stream",
     "text": [
      "{'a': 3}\n"
     ]
    }
   ],
   "source": [
    "ss = SpecialniSlovar({\"a\": 3}, read_only=True)\n",
    "print(ss)\n",
    "ss[\"a\"] = 4"
   ]
  },
  {
   "cell_type": "code",
   "execution_count": null,
   "id": "9e8965f3",
   "metadata": {},
   "outputs": [],
   "source": []
  }
 ],
 "metadata": {
  "kernelspec": {
   "display_name": "Python 3",
   "language": "python",
   "name": "python3"
  },
  "language_info": {
   "codemirror_mode": {
    "name": "ipython",
    "version": 3
   },
   "file_extension": ".py",
   "mimetype": "text/x-python",
   "name": "python",
   "nbconvert_exporter": "python",
   "pygments_lexer": "ipython3",
   "version": "3.10.0b1"
  }
 },
 "nbformat": 4,
 "nbformat_minor": 5
}
